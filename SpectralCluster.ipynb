{
 "cells": [
  {
   "cell_type": "code",
   "execution_count": 1,
   "metadata": {},
   "outputs": [],
   "source": [
    "def clusters_spectral(graph, n_clusters):\n",
    "    \"\"\"\n",
    "    Find communities in a graph using Spectral Clustering.\n",
    "\n",
    "    Args:\n",
    "        graph (nx.Graph): The input NetworkX graph.\n",
    "        n_clusters (int): The number of clusters to identify.\n",
    "\n",
    "    Returns:\n",
    "        dict: A dictionary mapping community IDs to lists of node members.\n",
    "    \"\"\"\n",
    "    # Check if the graph has edges\n",
    "    if graph.number_of_edges() > 0:\n",
    "        # Convert the graph to an adjacency matrix\n",
    "        adjacency_matrix = nx.to_numpy_array(graph)\n",
    "        \n",
    "        # Perform Spectral Clustering\n",
    "        sc = SpectralClustering(n_clusters=n_clusters, affinity='precomputed', random_state=42)\n",
    "        labels = sc.fit_predict(adjacency_matrix)\n",
    "        \n",
    "        # Extract communities and their members\n",
    "        communities = {}\n",
    "        for node, community_id in zip(graph.nodes(), labels):\n",
    "            if community_id not in communities:\n",
    "                communities[community_id] = []\n",
    "            communities[community_id].append(node)\n",
    "    else:\n",
    "        communities = {}\n",
    "        print(\"No edges in the graph, no communities found.\")\n",
    "\n",
    "    return communities"
   ]
  },
  {
   "cell_type": "code",
   "execution_count": null,
   "metadata": {},
   "outputs": [],
   "source": [
    "# Initialize storage for results\n",
    "Components = {}\n",
    "eegICA = all_data[file_num]['eegICA']  # Preprocessed EEG data\n",
    "plv_bi = all_data[file_num]['plv_bi']  # Phase Locking Value \n",
    "graphs = all_data[file_num]['graphs']  # Graphs for the current file\n",
    "graphs_bi = all_data[file_num]['graphs_bi']  # Binary graphs for the current file\n",
    "oke = []  # List to store the estimated number of clusters for each graph\n",
    "\n",
    "# Process each binary graph to estimate the number of clusters\n",
    "for G in graphs_bi:\n",
    "    # Compute the normalized Laplacian matrix\n",
    "    laplacian = nx.normalized_laplacian_matrix(G).toarray()\n",
    "    \n",
    "    # Compute and sort eigenvalues of the Laplacian\n",
    "    eigenvalues = np.sort(np.linalg.eigvals(laplacian))\n",
    "    \n",
    "    # Estimate the number of clusters based on the largest spectral gap\n",
    "    gaps = np.diff(eigenvalues)\n",
    "    optimal_k = np.argmax(gaps) + 1\n",
    "    oke.append(optimal_k)\n",
    "\n",
    "# Visualize the estimated number of clusters using a moving average\n",
    "plt.plot(moving_average(oke, 20))\n",
    "\n",
    "# Perform spectral clustering for each graph using the estimated cluster count\n",
    "communities_s = [clusters_spectral(graphs_bi[i], oke[i]) for i in range(len(graphs_bi))]\n",
    "\n",
    "# Save the results for the current file\n",
    "Components[file_num] = {\n",
    "    'Communities': communities_s,  # Detected communities for each graph\n",
    "    'Num_Comp': oke}  # List of estimated number of clusters\n"
   ]
  }
 ],
 "metadata": {
  "kernelspec": {
   "display_name": "eegnetmibci",
   "language": "python",
   "name": "python3"
  },
  "language_info": {
   "codemirror_mode": {
    "name": "ipython",
    "version": 3
   },
   "file_extension": ".py",
   "mimetype": "text/x-python",
   "name": "python",
   "nbconvert_exporter": "python",
   "pygments_lexer": "ipython3",
   "version": "3.10.13"
  }
 },
 "nbformat": 4,
 "nbformat_minor": 2
}
