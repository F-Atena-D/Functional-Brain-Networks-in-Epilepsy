{
 "cells": [
  {
   "cell_type": "markdown",
   "metadata": {},
   "source": [
    "Partial Directed Coherence (PDC)"
   ]
  },
  {
   "cell_type": "code",
   "execution_count": 1,
   "metadata": {},
   "outputs": [],
   "source": [
    "import numpy as np\n",
    "from statsmodels.tsa.api import VAR"
   ]
  },
  {
   "cell_type": "code",
   "execution_count": 2,
   "metadata": {},
   "outputs": [],
   "source": [
    "def fit_mvar(data, order):\n",
    "    \"\"\"\n",
    "    Fit a Multivariate Autoregressive (MVAR) model and return coefficients.\n",
    "    \"\"\"\n",
    "    model = VAR(data.T)  # Transpose to time × channels\n",
    "    results = model.fit(order)\n",
    "    # Reshape coefficients to (n_channels, n_channels, order)\n",
    "    A = np.transpose(results.coefs, (1, 2, 0))  # (n_channels, n_channels, order)\n",
    "    return A"
   ]
  },
  {
   "cell_type": "code",
   "execution_count": 3,
   "metadata": {},
   "outputs": [],
   "source": [
    "def compute_pdc(A, freq, fs):\n",
    "    \"\"\"\n",
    "    Compute Partial Directed Coherence (PDC) for a given frequency.\n",
    "\n",
    "    Parameters:\n",
    "    - A: MVAR coefficient matrix (n_channels × n_channels × order)\n",
    "    - freq: Frequency (in Hz)\n",
    "    - fs: Sampling frequency (in Hz)\n",
    "\n",
    "    Returns:\n",
    "    - PDC matrix (n_channels × n_channels)\n",
    "    \"\"\"\n",
    "    n_channels, _, order = A.shape\n",
    "\n",
    "    pdc_matrix = np.zeros((n_channels, n_channels, len(freq)))\n",
    "\n",
    "    for f_idx, f in enumerate(freq):\n",
    "        omega = 2 * np.pi * f/fs\n",
    "        A_f = np.eye(n_channels, dtype=np.complex128)\n",
    "        for k in range(order):\n",
    "            A_f -= A[:, :, k] * np.exp(-1j * omega * (k + 1))\n",
    "\n",
    "        for i in range(n_channels):\n",
    "            denominator = np.sqrt(np.sum(np.abs(A_f[i, :]) ** 2))\n",
    "            for j in range(n_channels):\n",
    "                numerator = np.abs(A_f[i, j])\n",
    "                pdc_matrix[i, j, f_idx] = numerator / denominator\n",
    "                if j == i:\n",
    "                    pdc_matrix[i, j, f_idx] = 0\n",
    "    \n",
    "    pdc_result = np.mean(pdc_matrix, axis =2)\n",
    "\n",
    "    return pdc_result"
   ]
  },
  {
   "cell_type": "code",
   "execution_count": null,
   "metadata": {},
   "outputs": [],
   "source": []
  }
 ],
 "metadata": {
  "kernelspec": {
   "display_name": "eegnetmibci",
   "language": "python",
   "name": "python3"
  },
  "language_info": {
   "codemirror_mode": {
    "name": "ipython",
    "version": 3
   },
   "file_extension": ".py",
   "mimetype": "text/x-python",
   "name": "python",
   "nbconvert_exporter": "python",
   "pygments_lexer": "ipython3",
   "version": "3.10.13"
  }
 },
 "nbformat": 4,
 "nbformat_minor": 2
}
