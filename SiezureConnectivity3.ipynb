{
 "cells": [
  {
   "cell_type": "markdown",
   "metadata": {},
   "source": [
    "# :)"
   ]
  },
  {
   "cell_type": "code",
   "execution_count": 41,
   "metadata": {},
   "outputs": [
    {
     "name": "stdout",
     "output_type": "stream",
     "text": [
      "Extracting EDF parameters from C:\\Users\\Atena\\OneDrive - University of Connecticut\\DriveCbackup\\ThirdPhaseofThesis\\Recordings\\aaaaaaav_s001_t000.edf...\n",
      "EDF file detected\n",
      "Setting channel info structure...\n",
      "Creating raw.info structure...\n",
      "Reading 0 ... 497999  =      0.000 ...  1991.996 secs...\n",
      "<Info | 8 non-empty values\n",
      " bads: []\n",
      " ch_names: EEG FP1-LE, EEG FP2-LE, EEG F3-LE, EEG F4-LE, EEG C3-LE, EEG ...\n",
      " chs: 41 EEG\n",
      " custom_ref_applied: False\n",
      " highpass: 0.0 Hz\n",
      " lowpass: 125.0 Hz\n",
      " meas_date: 2006-01-01 00:00:00 UTC\n",
      " nchan: 41\n",
      " projs: []\n",
      " sfreq: 250.0 Hz\n",
      " subject_info: 3 items (dict)\n",
      ">\n",
      "['EEG FP1-LE', 'EEG FP2-LE', 'EEG F3-LE', 'EEG F4-LE', 'EEG C3-LE', 'EEG C4-LE', 'EEG A1-LE', 'EEG A2-LE', 'EEG P3-LE', 'EEG P4-LE', 'EEG O1-LE', 'EEG O2-LE', 'EEG F7-LE', 'EEG F8-LE', 'EEG T3-LE', 'EEG T4-LE', 'EEG T5-LE', 'EEG T6-LE', 'EEG FZ-LE', 'EEG CZ-LE', 'EEG PZ-LE', 'EEG OZ-LE', 'EEG PG1-LE', 'EEG PG2-LE', 'EEG EKG-LE', 'EEG 26-LE', 'EEG 27-LE', 'EEG 28-LE', 'EEG 29-LE', 'EEG 30-LE', 'EEG 31-LE', 'EEG 32-LE', 'PHOTIC PH', 'DC1-DC', 'DC2-DC', 'DC3-DC', 'DC4-DC', 'DC5-DC', 'DC6-DC', 'DC7-DC', 'DC8-DC']\n",
      "Data shape: (41, 498000)\n",
      "Times shape: (498000,)\n"
     ]
    }
   ],
   "source": [
    "import mne\n",
    "import matplotlib.pyplot as plt\n",
    "\n",
    "# Specify the path to your EDF file\n",
    "file_path = 'C:/Users/Atena/OneDrive - University of Connecticut/DriveCbackup/ThirdPhaseofThesis/Recordings/aaaaaaav_s001_t000.edf'\n",
    "\n",
    "# Read the EDF file\n",
    "raw = mne.io.read_raw_edf(file_path, preload=True)\n",
    "\n",
    "# Get basic information\n",
    "print(raw.info)\n",
    "print(raw.ch_names)\n",
    "\n",
    "# Extract signal data\n",
    "data, times = raw[:]\n",
    "\n",
    "print(f\"Data shape: {data.shape}\")\n",
    "print(f\"Times shape: {times.shape}\")\n",
    "\n",
    "# # Plot the raw EEG data\n",
    "# # raw.plot(n_channels=len(raw.ch_names), duration=times[-1] - times[0], scalings='auto', title='Raw EEG Data', show=True, block=False)\n",
    "# raw.plot(n_channels=10, duration=times[65400] - times[63400], scalings='auto', title='Raw EEG Data', show=True, block=False)"
   ]
  },
  {
   "cell_type": "code",
   "execution_count": 42,
   "metadata": {},
   "outputs": [
    {
     "name": "stdout",
     "output_type": "stream",
     "text": [
      "Filtering raw data in 1 contiguous segment\n",
      "Setting up band-pass filter from 1 - 50 Hz\n",
      "\n",
      "FIR filter parameters\n",
      "---------------------\n",
      "Designing a one-pass, zero-phase, non-causal bandpass filter:\n",
      "- Windowed time-domain design (firwin) method\n",
      "- Hamming window with 0.0194 passband ripple and 53 dB stopband attenuation\n",
      "- Lower passband edge: 1.00\n",
      "- Lower transition bandwidth: 1.00 Hz (-6 dB cutoff frequency: 0.50 Hz)\n"
     ]
    },
    {
     "name": "stdout",
     "output_type": "stream",
     "text": [
      "- Upper passband edge: 50.00 Hz\n",
      "- Upper transition bandwidth: 12.50 Hz (-6 dB cutoff frequency: 56.25 Hz)\n",
      "- Filter length: 825 samples (3.300 s)\n",
      "\n"
     ]
    },
    {
     "name": "stderr",
     "output_type": "stream",
     "text": [
      "[Parallel(n_jobs=1)]: Using backend SequentialBackend with 1 concurrent workers.\n",
      "[Parallel(n_jobs=1)]: Done   1 out of   1 | elapsed:    0.0s remaining:    0.0s\n",
      "[Parallel(n_jobs=1)]: Done   2 out of   2 | elapsed:    0.0s remaining:    0.0s\n",
      "[Parallel(n_jobs=1)]: Done   3 out of   3 | elapsed:    0.0s remaining:    0.0s\n",
      "[Parallel(n_jobs=1)]: Done   4 out of   4 | elapsed:    0.0s remaining:    0.0s\n"
     ]
    },
    {
     "name": "stdout",
     "output_type": "stream",
     "text": [
      "Filtering raw data in 1 contiguous segment\n",
      "Setting up band-stop filter from 59 - 61 Hz\n",
      "\n",
      "FIR filter parameters\n",
      "---------------------\n",
      "Designing a one-pass, zero-phase, non-causal bandstop filter:\n",
      "- Windowed time-domain design (firwin) method\n",
      "- Hamming window with 0.0194 passband ripple and 53 dB stopband attenuation\n",
      "- Lower passband edge: 59.35\n",
      "- Lower transition bandwidth: 0.50 Hz (-6 dB cutoff frequency: 59.10 Hz)\n",
      "- Upper passband edge: 60.65 Hz\n",
      "- Upper transition bandwidth: 0.50 Hz (-6 dB cutoff frequency: 60.90 Hz)\n",
      "- Filter length: 1651 samples (6.604 s)\n",
      "\n"
     ]
    },
    {
     "name": "stderr",
     "output_type": "stream",
     "text": [
      "[Parallel(n_jobs=1)]: Done  41 out of  41 | elapsed:    0.5s finished\n",
      "[Parallel(n_jobs=1)]: Using backend SequentialBackend with 1 concurrent workers.\n",
      "[Parallel(n_jobs=1)]: Done   1 out of   1 | elapsed:    0.0s remaining:    0.0s\n",
      "[Parallel(n_jobs=1)]: Done   2 out of   2 | elapsed:    0.0s remaining:    0.0s\n",
      "[Parallel(n_jobs=1)]: Done   3 out of   3 | elapsed:    0.0s remaining:    0.0s\n",
      "[Parallel(n_jobs=1)]: Done   4 out of   4 | elapsed:    0.0s remaining:    0.0s\n"
     ]
    },
    {
     "name": "stdout",
     "output_type": "stream",
     "text": [
      "Fitting ICA to data using 41 channels (please be patient, this may take a while)\n"
     ]
    },
    {
     "name": "stderr",
     "output_type": "stream",
     "text": [
      "[Parallel(n_jobs=1)]: Done  41 out of  41 | elapsed:    0.6s finished\n"
     ]
    },
    {
     "name": "stdout",
     "output_type": "stream",
     "text": [
      "Selecting by number: 15 components\n",
      "Fitting ICA took 7.4s.\n"
     ]
    },
    {
     "name": "stderr",
     "output_type": "stream",
     "text": [
      "C:\\Users\\Atena\\AppData\\Local\\Temp\\ipykernel_9212\\3388091111.py:13: RuntimeWarning: Using n_components=15 (resulting in n_components_=15) may lead to an unstable mixing matrix estimation because the ratio between the largest (41) and smallest (2.8e-10) variances is too large (> 1e6); consider setting n_components=0.999999 or an integer <= 2\n",
      "  ica.fit(raw)\n"
     ]
    },
    {
     "name": "stdout",
     "output_type": "stream",
     "text": [
      "No EOG artifacts found: No EOG channel(s) found\n",
      "No ECG artifacts found: Unable to generate artificial ECG channel\n",
      "Effective window size : 8.192 (s)\n"
     ]
    },
    {
     "name": "stderr",
     "output_type": "stream",
     "text": [
      "WARNING:root:Did not find any electrode locations (in the info object), will attempt to use digitization points instead. However, if digitization points do not correspond to the EEG electrodes, this will lead to bad results. Please verify that the sensor locations in the plot are accurate.\n"
     ]
    },
    {
     "name": "stdout",
     "output_type": "stream",
     "text": [
      "No EMG artifacts found: No digitization points found.\n",
      "Applying ICA to Raw instance\n",
      "    Transforming to ICA space (15 components)\n",
      "    Zeroing out 0 ICA components\n",
      "    Projecting back using 41 PCA components\n",
      "EEG channel type selected for re-referencing\n",
      "Adding average EEG reference projection.\n",
      "1 projection items deactivated\n",
      "Average reference projection was added, but has not been applied yet. Use the apply_proj method to apply it.\n"
     ]
    }
   ],
   "source": [
    "# Band-pass filter the data\n",
    "raw.filter(l_freq=1.0, h_freq=50.0)\n",
    "\n",
    "# Notch filter to remove power line noise (assuming 60 Hz)\n",
    "raw.notch_filter(freqs=60.0)\n",
    "\n",
    "# # Plot the raw EEG data after filtering\n",
    "# # raw.plot(n_channels=len(raw.ch_names), duration=times[-1] - times[0], scalings='auto', title='Filtered EEG Data', show=True, block=True)\n",
    "# raw.plot(n_channels=10, duration=times[65400] - times[63400], scalings='auto', title='Raw EEG Data', show=True, block=False)\n",
    "\n",
    "# Set up and fit the ICA\n",
    "ica = mne.preprocessing.ICA(n_components=15, random_state=97, max_iter=800)\n",
    "ica.fit(raw)\n",
    "\n",
    "# Find and remove EOG artifacts\n",
    "try:\n",
    "    eog_inds, eog_scores = ica.find_bads_eog(raw)\n",
    "    ica.exclude.extend(eog_inds)\n",
    "    print(f\"Excluded EOG components: {eog_inds}\")\n",
    "except RuntimeError as e:\n",
    "    print(\"No EOG artifacts found:\", e)\n",
    "\n",
    "# Find and remove ECG artifacts\n",
    "try:\n",
    "    ecg_inds, ecg_scores = ica.find_bads_ecg(raw, method='correlation', threshold='auto')\n",
    "    ica.exclude.extend(ecg_inds)\n",
    "    print(f\"Excluded ECG components: {ecg_inds}\")\n",
    "except ValueError as e:\n",
    "    print(\"No ECG artifacts found:\", e)\n",
    "\n",
    "try:\n",
    "    emg_inds, scores = ica.find_bads_muscle(raw, threshold=4)\n",
    "    ica.exclude.extend(emg_inds)\n",
    "    print(f\"Excluded EMG components: {emg_inds}\")\n",
    "except RuntimeError as e:\n",
    "    print(\"No EMG artifacts found:\", e)\n",
    "\n",
    "# Apply the ICA to the raw data\n",
    "raw_ica = raw.copy()\n",
    "ica.apply(raw_ica)\n",
    "\n",
    "# Re-reference the data to the average reference\n",
    "raw_ica.set_eeg_reference('average', projection=True)\n",
    "\n",
    "# # Plot the preprocessed EEG data\n",
    "# # raw_ica.plot(n_channels=len(raw_ica.ch_names), duration=times[-1] - times[0], scalings='auto', title='Preprocessed EEG Data', show=True, block=True)\n",
    "# raw.plot(n_channels=10, duration=times[65400] - times[63400], scalings='auto', title='Raw EEG Data', show=True, block=False)\n",
    "\n",
    "# # Save the preprocessed data to a new file (optional)\n",
    "# preprocessed_file_path = 'C:/Users/Atena/OneDrive - University of Connecticut/DriveCbackup/ThirdPhaseofThesis/Recordings/preprocessed_data.fif'\n",
    "# raw_ica.save(preprocessed_file_path, overwrite=True)\n",
    "\n",
    "preprocEEG = raw_ica"
   ]
  },
  {
   "cell_type": "code",
   "execution_count": 43,
   "metadata": {},
   "outputs": [],
   "source": [
    "# Define the seizure and background time intervals (in seconds)\n",
    "seizure_start, seizure_end = 1273.45, 1319.18 \n",
    "background_start, background_end = 0, 1273.45\n",
    "\n",
    "# Extract seizure and background epochs\n",
    "seizure_epochs = preprocEEG.copy().crop(tmin=seizure_start, tmax=seizure_end)\n",
    "background_epochs = preprocEEG.copy().crop(tmin=background_start, tmax=background_end)"
   ]
  },
  {
   "cell_type": "code",
   "execution_count": 44,
   "metadata": {},
   "outputs": [
    {
     "name": "stdout",
     "output_type": "stream",
     "text": [
      "0.762166666666667\n",
      "21.22416666666667\n"
     ]
    }
   ],
   "source": [
    "seizure_dur = (seizure_end - seizure_start)/60\n",
    "background_dur = (background_end - background_start)/60\n",
    "\n",
    "print(seizure_dur)\n",
    "print(background_dur)"
   ]
  },
  {
   "cell_type": "code",
   "execution_count": 45,
   "metadata": {},
   "outputs": [
    {
     "name": "stdout",
     "output_type": "stream",
     "text": [
      "<Info | 9 non-empty values\n",
      " bads: []\n",
      " ch_names: EEG FP1-LE, EEG FP2-LE, EEG F3-LE, EEG F4-LE, EEG C3-LE, EEG ...\n",
      " chs: 41 EEG\n",
      " custom_ref_applied: False\n",
      " highpass: 1.0 Hz\n",
      " lowpass: 50.0 Hz\n",
      " meas_date: 2006-01-01 00:00:00 UTC\n",
      " nchan: 41\n",
      " projs: Average EEG reference: off\n",
      " sfreq: 250.0 Hz\n",
      " subject_info: 3 items (dict)\n",
      ">\n",
      "['EEG FP1-LE', 'EEG FP2-LE', 'EEG F3-LE', 'EEG F4-LE', 'EEG C3-LE', 'EEG C4-LE', 'EEG A1-LE', 'EEG A2-LE', 'EEG P3-LE', 'EEG P4-LE', 'EEG O1-LE', 'EEG O2-LE', 'EEG F7-LE', 'EEG F8-LE', 'EEG T3-LE', 'EEG T4-LE', 'EEG T5-LE', 'EEG T6-LE', 'EEG FZ-LE', 'EEG CZ-LE', 'EEG PZ-LE', 'EEG OZ-LE', 'EEG PG1-LE', 'EEG PG2-LE', 'EEG EKG-LE', 'EEG 26-LE', 'EEG 27-LE', 'EEG 28-LE', 'EEG 29-LE', 'EEG 30-LE', 'EEG 31-LE', 'EEG 32-LE', 'PHOTIC PH', 'DC1-DC', 'DC2-DC', 'DC3-DC', 'DC4-DC', 'DC5-DC', 'DC6-DC', 'DC7-DC', 'DC8-DC']\n",
      "Data shape: (41, 11434)\n",
      "Times shape: (11434,)\n"
     ]
    }
   ],
   "source": [
    "seizure_epochs\n",
    "\n",
    "# Get basic information\n",
    "print(seizure_epochs.info)\n",
    "print(seizure_epochs.ch_names)\n",
    "\n",
    "# Extract signal data\n",
    "data, times = seizure_epochs[:]\n",
    "\n",
    "print(f\"Data shape: {data.shape}\")\n",
    "print(f\"Times shape: {times.shape}\")\n",
    "\n",
    "# # Plot the raw EEG data\n",
    "# # raw.plot(n_channels=len(raw.ch_names), duration=times[-1] - times[0], scalings='auto', title='Raw EEG Data', show=True, block=False)\n",
    "# seizure_epochs.plot(n_channels=10, duration=times[5400] - times[3400], scalings='auto', title='Seizure EEG Data', show=True, block=False)"
   ]
  },
  {
   "cell_type": "code",
   "execution_count": 46,
   "metadata": {},
   "outputs": [
    {
     "name": "stdout",
     "output_type": "stream",
     "text": [
      "<Info | 9 non-empty values\n",
      " bads: []\n",
      " ch_names: EEG FP1-LE, EEG FP2-LE, EEG F3-LE, EEG F4-LE, EEG C3-LE, EEG ...\n",
      " chs: 41 EEG\n",
      " custom_ref_applied: False\n",
      " highpass: 1.0 Hz\n",
      " lowpass: 50.0 Hz\n",
      " meas_date: 2006-01-01 00:00:00 UTC\n",
      " nchan: 41\n",
      " projs: Average EEG reference: off\n",
      " sfreq: 250.0 Hz\n",
      " subject_info: 3 items (dict)\n",
      ">\n",
      "['EEG FP1-LE', 'EEG FP2-LE', 'EEG F3-LE', 'EEG F4-LE', 'EEG C3-LE', 'EEG C4-LE', 'EEG A1-LE', 'EEG A2-LE', 'EEG P3-LE', 'EEG P4-LE', 'EEG O1-LE', 'EEG O2-LE', 'EEG F7-LE', 'EEG F8-LE', 'EEG T3-LE', 'EEG T4-LE', 'EEG T5-LE', 'EEG T6-LE', 'EEG FZ-LE', 'EEG CZ-LE', 'EEG PZ-LE', 'EEG OZ-LE', 'EEG PG1-LE', 'EEG PG2-LE', 'EEG EKG-LE', 'EEG 26-LE', 'EEG 27-LE', 'EEG 28-LE', 'EEG 29-LE', 'EEG 30-LE', 'EEG 31-LE', 'EEG 32-LE', 'PHOTIC PH', 'DC1-DC', 'DC2-DC', 'DC3-DC', 'DC4-DC', 'DC5-DC', 'DC6-DC', 'DC7-DC', 'DC8-DC']\n",
      "Data shape: (41, 318363)\n",
      "Times shape: (318363,)\n"
     ]
    }
   ],
   "source": [
    "background_epochs\n",
    "\n",
    "# Get basic information\n",
    "print(background_epochs.info)\n",
    "print(background_epochs.ch_names)\n",
    "\n",
    "# Extract signal data\n",
    "data, times = background_epochs[:]\n",
    "\n",
    "print(f\"Data shape: {data.shape}\")\n",
    "print(f\"Times shape: {times.shape}\")\n",
    "\n",
    "# # Plot the raw EEG data\n",
    "# # raw.plot(n_channels=len(raw.ch_names), duration=times[-1] - times[0], scalings='auto', title='Raw EEG Data', show=True, block=False)\n",
    "# background_epochs.plot(n_channels=10, duration=times[5400] - times[3400], scalings='auto', title='background EEG Data', show=True, block=False)"
   ]
  },
  {
   "cell_type": "code",
   "execution_count": 47,
   "metadata": {},
   "outputs": [],
   "source": [
    "import numpy as np\n",
    "from scipy.signal import hilbert, butter, filtfilt\n",
    "\n",
    "def bandpass_filter(data, sfreq, low_freq, high_freq):\n",
    "    \"\"\"\n",
    "    Band-pass filter the data.\n",
    "    \n",
    "    Parameters:\n",
    "    data (ndarray): The input signal of shape (n_channels, n_times)\n",
    "    sfreq (float): The sampling frequency\n",
    "    low_freq (float): The lower bound of the frequency range\n",
    "    high_freq (float): The upper bound of the frequency range\n",
    "    \n",
    "    Returns:\n",
    "    filtered_data (ndarray): The band-pass filtered signal\n",
    "    \"\"\"\n",
    "    nyquist = 0.5 * sfreq\n",
    "    low = low_freq / nyquist\n",
    "    high = high_freq / nyquist\n",
    "    b, a = butter(4, [low, high], btype='band')\n",
    "    filtered_data = filtfilt(b, a, data, axis=1)\n",
    "    return filtered_data\n",
    "\n",
    "def calculate_plv(eeg_data, sfreq, low_freq, high_freq):\n",
    "    \"\"\"\n",
    "    Calculate the Phase Locking Value (PLV) between pairs of EEG channels.\n",
    "    \n",
    "    Parameters:\n",
    "    eeg_data (ndarray): EEG data of shape (n_channels, n_times)\n",
    "    sfreq (float): Sampling frequency of the EEG data\n",
    "    low_freq (float): Lower frequency bound for band-pass filter (default 8 Hz)\n",
    "    high_freq (float): Upper frequency bound for band-pass filter (default 13 Hz)\n",
    "    \n",
    "    Returns:\n",
    "    plv_matrix (ndarray): PLV matrix of shape (n_channels, n_channels)\n",
    "    \"\"\"\n",
    "    n_channels, n_times = eeg_data.shape\n",
    "    plv_matrix = np.zeros((n_channels, n_channels))\n",
    "    \n",
    "    # Band-pass filter the data in the specified frequency band\n",
    "    eeg_data_filtered = bandpass_filter(eeg_data, sfreq, low_freq, high_freq)\n",
    "    \n",
    "    # Compute the analytic signal (Hilbert transform) to get the phase\n",
    "    analytic_signal = hilbert(eeg_data_filtered, axis=1)\n",
    "    phase_data = np.angle(analytic_signal)\n",
    "    \n",
    "    # Calculate PLV\n",
    "    for i in range(n_channels):\n",
    "        for j in range(i + 1, n_channels):\n",
    "            phase_diff = phase_data[i] - phase_data[j]\n",
    "            plv = np.abs(np.sum(np.exp(1j * phase_diff)) / n_times)\n",
    "            plv_matrix[i, j] = plv\n",
    "            plv_matrix[j, i] = plv  # PLV is symmetric\n",
    "    \n",
    "    return plv_matrix\n",
    "  "
   ]
  },
  {
   "cell_type": "code",
   "execution_count": 48,
   "metadata": {},
   "outputs": [],
   "source": [
    "import networkx as nx\n",
    "\n",
    "# Helper function to create graph from PLV matrix\n",
    "def create_graph(plv_matrix, ch_names):\n",
    "    G = nx.Graph()\n",
    "    for i, ch1 in enumerate(ch_names):\n",
    "        for j, ch2 in enumerate(ch_names):\n",
    "            if i < j:  # To avoid duplicate edges\n",
    "                weight = plv_matrix[i, j]\n",
    "                G.add_edge(ch1, ch2, weight=weight)\n",
    "    return G\n",
    "\n",
    "# Helper function to create graph from PLV matrix\n",
    "def create_graph_bi(plv_matrix, ch_names):\n",
    "    # Calculate mean and standard deviation of all values in the matrix\n",
    "    mean_val = np.mean(plv_matrix)\n",
    "    std_val = np.std(plv_matrix)\n",
    "    threshold = mean_val + std_val\n",
    "\n",
    "    G = nx.Graph()\n",
    "    for i, ch1 in enumerate(ch_names):\n",
    "        for j, ch2 in enumerate(ch_names):\n",
    "            if i < j:  # To avoid duplicate edges\n",
    "                weight = plv_matrix[i, j]\n",
    "                if weight >= threshold:\n",
    "                    G.add_edge(ch1, ch2, weight=1)  # Binary edge\n",
    "    return G\n",
    "\n",
    "# Function to extract graph features\n",
    "def extract_graph_features(G):\n",
    "    features = {}\n",
    "    features['density'] = nx.density(G)\n",
    "    features['clustering_coefficient'] = nx.average_clustering(G, weight='weight')\n",
    "    try:\n",
    "        features['average_shortest_path_length'] = nx.average_shortest_path_length(G, weight='weight')\n",
    "    except nx.NetworkXError:\n",
    "        features['average_shortest_path_length'] = float('inf')\n",
    "    return features"
   ]
  },
  {
   "cell_type": "code",
   "execution_count": 49,
   "metadata": {},
   "outputs": [
    {
     "name": "stdout",
     "output_type": "stream",
     "text": [
      "Seizure Graph Features: {'density': 1.0, 'clustering_coefficient': 0.17072793617579077, 'average_shortest_path_length': 0.03769255328469999}\n",
      "Background Graph Features: {'density': 1.0, 'clustering_coefficient': 0.14930447996770418, 'average_shortest_path_length': 0.0056123641782690695}\n",
      "Seizure Graph Features: {'density': 0.3492063492063492, 'clustering_coefficient': 0.6880070501394032, 'average_shortest_path_length': 1.8174603174603174}\n",
      "Background Graph Features: {'density': 0.3888888888888889, 'clustering_coefficient': 0.7194410597633728, 'average_shortest_path_length': inf}\n"
     ]
    }
   ],
   "source": [
    "sfreq = 250\n",
    "\n",
    "data, times = seizure_epochs[:]\n",
    "plv_matrix = calculate_plv(data, sfreq, low_freq= 8 , high_freq= 13)\n",
    "# print(\"PLV Matrix:\")\n",
    "# print(plv_matrix)\n",
    "plv_seizure = plv_matrix\n",
    "\n",
    "data, times = background_epochs[:]\n",
    "plv_matrix = calculate_plv(data, sfreq, low_freq= 8 , high_freq= 13)\n",
    "# print(\"PLV Matrix:\")\n",
    "# print(plv_matrix)\n",
    "plv_background = plv_matrix\n",
    "\n",
    "# Create graphs\n",
    "ch_names = seizure_epochs.ch_names\n",
    "G_seizure = create_graph(plv_seizure, ch_names)\n",
    "G_background = create_graph(plv_background, ch_names)\n",
    "G_seizure_bi = create_graph_bi(plv_seizure, ch_names)\n",
    "G_background_bi = create_graph_bi(plv_background, ch_names)\n",
    "\n",
    "# Extract features\n",
    "features_seizure = extract_graph_features(G_seizure)\n",
    "features_background = extract_graph_features(G_background)\n",
    "features_seizure_bi = extract_graph_features(G_seizure_bi)\n",
    "features_background_bi = extract_graph_features(G_background_bi)\n",
    "\n",
    "# Print features\n",
    "print(\"Seizure Graph Features:\", features_seizure)\n",
    "print(\"Background Graph Features:\", features_background)\n",
    "print(\"Seizure Graph Features:\", features_seizure_bi)\n",
    "print(\"Background Graph Features:\", features_background_bi)\n",
    "\n",
    "# # Plot the graphs\n",
    "# plt.figure(figsize=(12, 6))\n",
    "\n",
    "# plt.subplot(121)\n",
    "# nx.draw_networkx(G_seizure, with_labels=True)\n",
    "# plt.title('Seizure PLV Graph')\n",
    "\n",
    "# plt.subplot(122)\n",
    "# nx.draw_networkx(G_background, with_labels=True)\n",
    "# plt.title('Background PLV Graph')\n",
    "\n",
    "# plt.show()"
   ]
  },
  {
   "cell_type": "code",
   "execution_count": 50,
   "metadata": {},
   "outputs": [
    {
     "data": {
      "text/plain": [
       "1.0"
      ]
     },
     "execution_count": 50,
     "metadata": {},
     "output_type": "execute_result"
    }
   ],
   "source": [
    "features_seizure['density']"
   ]
  },
  {
   "cell_type": "code",
   "execution_count": 51,
   "metadata": {},
   "outputs": [
    {
     "data": {
      "image/png": "[encoded data removed]",
      "text/plain": [
       "<Figure size 640x480 with 1 Axes>"
      ]
     },
     "metadata": {},
     "output_type": "display_data"
    }
   ],
   "source": [
    "# Data\n",
    "group_names = ['Seizure', 'Background']\n",
    "values_group1 = [features_seizure_bi['density'], features_seizure_bi['clustering_coefficient'], 20*features_seizure['average_shortest_path_length']]\n",
    "values_group2 = [features_background_bi['density'], features_background_bi['clustering_coefficient'], 20*features_background['average_shortest_path_length']]\n",
    "x = np.arange(len(values_group1))  # the label locations\n",
    "width = 0.35  # the width of the bars\n",
    "\n",
    "# Create the plot\n",
    "fig, ax = plt.subplots()\n",
    "rects1 = ax.bar(x - width/2, values_group1, width, label='Seizure')\n",
    "rects2 = ax.bar(x + width/2, values_group2, width, label='Background')\n",
    "\n",
    "# Add some text for labels, title and custom x-axis tick labels, etc.\n",
    "ax.set_xlabel('Measure')\n",
    "ax.set_ylabel('Value')\n",
    "# ax.set_title('Values by group and category')\n",
    "ax.set_xticks(x)\n",
    "ax.set_xticklabels(['Density', 'Clustering Coefficient', 'Shortest Path Length'])\n",
    "ax.legend()\n",
    "\n",
    "# Add labels above the bars\n",
    "def autolabel(rects):\n",
    "    for rect in rects:\n",
    "        height = rect.get_height()\n",
    "        ax.annotate('{}'.format(height),\n",
    "                    xy=(rect.get_x() + rect.get_width() / 2, height),\n",
    "                    xytext=(0, 3),  # 3 points vertical offset\n",
    "                    # textcoords=\"offset points\",\n",
    "                    ha='center', va='bottom')\n",
    "\n",
    "# autolabel(rects1)\n",
    "# autolabel(rects2)\n",
    "\n",
    "fig.tight_layout()\n",
    "\n",
    "plt.show()\n"
   ]
  },
  {
   "cell_type": "code",
   "execution_count": 52,
   "metadata": {},
   "outputs": [
    {
     "data": {
      "image/png": "[encoded data removed]",
      "text/plain": [
       "<Figure size 640x480 with 1 Axes>"
      ]
     },
     "metadata": {},
     "output_type": "display_data"
    }
   ],
   "source": [
    "# Delta [1, 4]\n",
    "data, times = seizure_epochs[:]\n",
    "plv_matrix = calculate_plv(data, sfreq, low_freq= 1 , high_freq= 4)\n",
    "# print(\"PLV Matrix:\")\n",
    "# print(plv_matrix)\n",
    "plv_seizure = plv_matrix\n",
    "\n",
    "data, times = background_epochs[:]\n",
    "plv_matrix = calculate_plv(data, sfreq, low_freq= 1 , high_freq= 4)\n",
    "# print(\"PLV Matrix:\")\n",
    "# print(plv_matrix)\n",
    "plv_background = plv_matrix\n",
    "\n",
    "# Create graphs\n",
    "ch_names = seizure_epochs.ch_names\n",
    "G_seizure = create_graph(plv_seizure, ch_names)\n",
    "G_background = create_graph(plv_background, ch_names)\n",
    "G_seizure_bi = create_graph_bi(plv_seizure, ch_names)\n",
    "G_background_bi = create_graph_bi(plv_background, ch_names)\n",
    "\n",
    "# Extract features\n",
    "features_seizure = extract_graph_features(G_seizure)\n",
    "features_background = extract_graph_features(G_background)\n",
    "features_seizure_bi = extract_graph_features(G_seizure_bi)\n",
    "features_background_bi = extract_graph_features(G_background_bi)\n",
    "\n",
    "\n",
    "# Data\n",
    "group_names = ['Seizure', 'Background']\n",
    "values_group1 = [features_seizure_bi['density'], features_seizure_bi['clustering_coefficient'], 20*features_seizure['average_shortest_path_length']]\n",
    "values_group2 = [features_background_bi['density'], features_background_bi['clustering_coefficient'], 20*features_background['average_shortest_path_length']]\n",
    "x = np.arange(len(values_group1))  # the label locations\n",
    "width = 0.35  # the width of the bars\n",
    "\n",
    "# Create the plot\n",
    "fig, ax = plt.subplots()\n",
    "rects1 = ax.bar(x - width/2, values_group1, width, label='Seizure')\n",
    "rects2 = ax.bar(x + width/2, values_group2, width, label='Background')\n",
    "\n",
    "# Add some text for labels, title and custom x-axis tick labels, etc.\n",
    "ax.set_xlabel('Measure')\n",
    "ax.set_ylabel('Value')\n",
    "ax.set_title('Delta')\n",
    "ax.set_xticks(x)\n",
    "ax.set_xticklabels(['Density', 'Clustering Coefficient', '20 x Shortest Path Length'])\n",
    "ax.legend()\n",
    "\n",
    "# Add labels above the bars\n",
    "def autolabel(rects):\n",
    "    for rect in rects:\n",
    "        height = rect.get_height()\n",
    "        ax.annotate('{}'.format(height),\n",
    "                    xy=(rect.get_x() + rect.get_width() / 2, height),\n",
    "                    xytext=(0, 3),  # 3 points vertical offset\n",
    "                    # textcoords=\"offset points\",\n",
    "                    ha='center', va='bottom')\n",
    "\n",
    "# autolabel(rects1)\n",
    "# autolabel(rects2)\n",
    "\n",
    "fig.tight_layout()\n",
    "\n",
    "plt.show()\n"
   ]
  },
  {
   "cell_type": "code",
   "execution_count": 53,
   "metadata": {},
   "outputs": [
    {
     "data": {
      "image/png": "[encoded data removed]",
      "text/plain": [
       "<Figure size 640x480 with 1 Axes>"
      ]
     },
     "metadata": {},
     "output_type": "display_data"
    }
   ],
   "source": [
    "# Theta [4, 8]\n",
    "data, times = seizure_epochs[:]\n",
    "plv_matrix = calculate_plv(data, sfreq, low_freq= 4 , high_freq= 8)\n",
    "# print(\"PLV Matrix:\")\n",
    "# print(plv_matrix)\n",
    "plv_seizure = plv_matrix\n",
    "\n",
    "data, times = background_epochs[:]\n",
    "plv_matrix = calculate_plv(data, sfreq, low_freq= 4 , high_freq= 8)\n",
    "# print(\"PLV Matrix:\")\n",
    "# print(plv_matrix)\n",
    "plv_background = plv_matrix\n",
    "\n",
    "# Create graphs\n",
    "ch_names = seizure_epochs.ch_names\n",
    "G_seizure = create_graph(plv_seizure, ch_names)\n",
    "G_background = create_graph(plv_background, ch_names)\n",
    "G_seizure_bi = create_graph_bi(plv_seizure, ch_names)\n",
    "G_background_bi = create_graph_bi(plv_background, ch_names)\n",
    "\n",
    "# Extract features\n",
    "features_seizure = extract_graph_features(G_seizure)\n",
    "features_background = extract_graph_features(G_background)\n",
    "features_seizure_bi = extract_graph_features(G_seizure_bi)\n",
    "features_background_bi = extract_graph_features(G_background_bi)\n",
    "\n",
    "\n",
    "# Data\n",
    "group_names = ['Seizure', 'Background']\n",
    "values_group1 = [features_seizure_bi['density'], features_seizure_bi['clustering_coefficient'], 20*features_seizure['average_shortest_path_length']]\n",
    "values_group2 = [features_background_bi['density'], features_background_bi['clustering_coefficient'], 20*features_background['average_shortest_path_length']]\n",
    "x = np.arange(len(values_group1))  # the label locations\n",
    "width = 0.35  # the width of the bars\n",
    "\n",
    "# Create the plot\n",
    "fig, ax = plt.subplots()\n",
    "rects1 = ax.bar(x - width/2, values_group1, width, label='Seizure')\n",
    "rects2 = ax.bar(x + width/2, values_group2, width, label='Background')\n",
    "\n",
    "# Add some text for labels, title and custom x-axis tick labels, etc.\n",
    "ax.set_xlabel('Measure')\n",
    "ax.set_ylabel('Value')\n",
    "ax.set_title('Theta')\n",
    "ax.set_xticks(x)\n",
    "ax.set_xticklabels(['Density', 'Clustering Coefficient', '20 x Shortest Path Length'])\n",
    "ax.legend()\n",
    "\n",
    "# Add labels above the bars\n",
    "def autolabel(rects):\n",
    "    for rect in rects:\n",
    "        height = rect.get_height()\n",
    "        ax.annotate('{}'.format(height),\n",
    "                    xy=(rect.get_x() + rect.get_width() / 2, height),\n",
    "                    xytext=(0, 3),  # 3 points vertical offset\n",
    "                    # textcoords=\"offset points\",\n",
    "                    ha='center', va='bottom')\n",
    "\n",
    "# autolabel(rects1)\n",
    "# autolabel(rects2)\n",
    "\n",
    "fig.tight_layout()\n",
    "\n",
    "plt.show()\n"
   ]
  },
  {
   "cell_type": "code",
   "execution_count": 54,
   "metadata": {},
   "outputs": [
    {
     "data": {
      "image/png": "[encoded data removed]",
      "text/plain": [
       "<Figure size 640x480 with 1 Axes>"
      ]
     },
     "metadata": {},
     "output_type": "display_data"
    }
   ],
   "source": [
    "# Alpha [8, 13]\n",
    "data, times = seizure_epochs[:]\n",
    "plv_matrix = calculate_plv(data, sfreq, low_freq= 8 , high_freq= 13)\n",
    "# print(\"PLV Matrix:\")\n",
    "# print(plv_matrix)\n",
    "plv_seizure = plv_matrix\n",
    "\n",
    "data, times = background_epochs[:]\n",
    "plv_matrix = calculate_plv(data, sfreq, low_freq= 8 , high_freq= 13)\n",
    "# print(\"PLV Matrix:\")\n",
    "# print(plv_matrix)\n",
    "plv_background = plv_matrix\n",
    "\n",
    "# Create graphs\n",
    "ch_names = seizure_epochs.ch_names\n",
    "G_seizure = create_graph(plv_seizure, ch_names)\n",
    "G_background = create_graph(plv_background, ch_names)\n",
    "G_seizure_bi = create_graph_bi(plv_seizure, ch_names)\n",
    "G_background_bi = create_graph_bi(plv_background, ch_names)\n",
    "\n",
    "# Extract features\n",
    "features_seizure = extract_graph_features(G_seizure)\n",
    "features_background = extract_graph_features(G_background)\n",
    "features_seizure_bi = extract_graph_features(G_seizure_bi)\n",
    "features_background_bi = extract_graph_features(G_background_bi)\n",
    "\n",
    "\n",
    "# Data\n",
    "group_names = ['Seizure', 'Background']\n",
    "values_group1 = [features_seizure_bi['density'], features_seizure_bi['clustering_coefficient'], 20*features_seizure['average_shortest_path_length']]\n",
    "values_group2 = [features_background_bi['density'], features_background_bi['clustering_coefficient'], 20*features_background['average_shortest_path_length']]\n",
    "x = np.arange(len(values_group1))  # the label locations\n",
    "width = 0.35  # the width of the bars\n",
    "\n",
    "# Create the plot\n",
    "fig, ax = plt.subplots()\n",
    "rects1 = ax.bar(x - width/2, values_group1, width, label='Seizure')\n",
    "rects2 = ax.bar(x + width/2, values_group2, width, label='Background')\n",
    "\n",
    "# Add some text for labels, title and custom x-axis tick labels, etc.\n",
    "ax.set_xlabel('Measure')\n",
    "ax.set_ylabel('Value')\n",
    "ax.set_title('Alpha')\n",
    "ax.set_xticks(x)\n",
    "ax.set_xticklabels(['Density', 'Clustering Coefficient', '20 x Shortest Path Length'])\n",
    "ax.legend()\n",
    "\n",
    "# Add labels above the bars\n",
    "def autolabel(rects):\n",
    "    for rect in rects:\n",
    "        height = rect.get_height()\n",
    "        ax.annotate('{}'.format(height),\n",
    "                    xy=(rect.get_x() + rect.get_width() / 2, height),\n",
    "                    xytext=(0, 3),  # 3 points vertical offset\n",
    "                    # textcoords=\"offset points\",\n",
    "                    ha='center', va='bottom')\n",
    "\n",
    "# autolabel(rects1)\n",
    "# autolabel(rects2)\n",
    "\n",
    "fig.tight_layout()\n",
    "\n",
    "plt.show()\n"
   ]
  },
  {
   "cell_type": "code",
   "execution_count": 55,
   "metadata": {},
   "outputs": [
    {
     "data": {
      "image/png": "[encoded data removed]",
      "text/plain": [
       "<Figure size 640x480 with 1 Axes>"
      ]
     },
     "metadata": {},
     "output_type": "display_data"
    }
   ],
   "source": [
    "# Beta [13, 30]\n",
    "data, times = seizure_epochs[:]\n",
    "plv_matrix = calculate_plv(data, sfreq, low_freq= 13 , high_freq= 30)\n",
    "# print(\"PLV Matrix:\")\n",
    "# print(plv_matrix)\n",
    "plv_seizure = plv_matrix\n",
    "\n",
    "data, times = background_epochs[:]\n",
    "plv_matrix = calculate_plv(data, sfreq, low_freq= 13 , high_freq= 30)\n",
    "# print(\"PLV Matrix:\")\n",
    "# print(plv_matrix)\n",
    "plv_background = plv_matrix\n",
    "\n",
    "# Create graphs\n",
    "ch_names = seizure_epochs.ch_names\n",
    "G_seizure = create_graph(plv_seizure, ch_names)\n",
    "G_background = create_graph(plv_background, ch_names)\n",
    "G_seizure_bi = create_graph_bi(plv_seizure, ch_names)\n",
    "G_background_bi = create_graph_bi(plv_background, ch_names)\n",
    "\n",
    "# Extract features\n",
    "features_seizure = extract_graph_features(G_seizure)\n",
    "features_background = extract_graph_features(G_background)\n",
    "features_seizure_bi = extract_graph_features(G_seizure_bi)\n",
    "features_background_bi = extract_graph_features(G_background_bi)\n",
    "\n",
    "\n",
    "# Data\n",
    "group_names = ['Seizure', 'Background']\n",
    "values_group1 = [features_seizure_bi['density'], features_seizure_bi['clustering_coefficient'], 20*features_seizure['average_shortest_path_length']]\n",
    "values_group2 = [features_background_bi['density'], features_background_bi['clustering_coefficient'], 20*features_background['average_shortest_path_length']]\n",
    "x = np.arange(len(values_group1))  # the label locations\n",
    "width = 0.35  # the width of the bars\n",
    "\n",
    "# Create the plot\n",
    "fig, ax = plt.subplots()\n",
    "rects1 = ax.bar(x - width/2, values_group1, width, label='Seizure')\n",
    "rects2 = ax.bar(x + width/2, values_group2, width, label='Background')\n",
    "\n",
    "# Add some text for labels, title and custom x-axis tick labels, etc.\n",
    "ax.set_xlabel('Measure')\n",
    "ax.set_ylabel('Value')\n",
    "ax.set_title('Beta')\n",
    "ax.set_xticks(x)\n",
    "ax.set_xticklabels(['Density', 'Clustering Coefficient', '20 x Shortest Path Length'])\n",
    "ax.legend()\n",
    "\n",
    "# Add labels above the bars\n",
    "def autolabel(rects):\n",
    "    for rect in rects:\n",
    "        height = rect.get_height()\n",
    "        ax.annotate('{}'.format(height),\n",
    "                    xy=(rect.get_x() + rect.get_width() / 2, height),\n",
    "                    xytext=(0, 3),  # 3 points vertical offset\n",
    "                    # textcoords=\"offset points\",\n",
    "                    ha='center', va='bottom')\n",
    "\n",
    "# autolabel(rects1)\n",
    "# autolabel(rects2)\n",
    "\n",
    "fig.tight_layout()\n",
    "\n",
    "plt.show()\n"
   ]
  },
  {
   "cell_type": "code",
   "execution_count": 56,
   "metadata": {},
   "outputs": [
    {
     "data": {
      "image/png": "[encoded data removed]",
      "text/plain": [
       "<Figure size 640x480 with 1 Axes>"
      ]
     },
     "metadata": {},
     "output_type": "display_data"
    }
   ],
   "source": [
    "# Gamma [30, 50]\n",
    "data, times = seizure_epochs[:]\n",
    "plv_matrix = calculate_plv(data, sfreq, low_freq= 30 , high_freq= 50)\n",
    "# print(\"PLV Matrix:\")\n",
    "# print(plv_matrix)\n",
    "plv_seizure = plv_matrix\n",
    "\n",
    "data, times = background_epochs[:]\n",
    "plv_matrix = calculate_plv(data, sfreq, low_freq= 30 , high_freq= 50)\n",
    "# print(\"PLV Matrix:\")\n",
    "# print(plv_matrix)\n",
    "plv_background = plv_matrix\n",
    "\n",
    "# Create graphs\n",
    "ch_names = seizure_epochs.ch_names\n",
    "G_seizure = create_graph(plv_seizure, ch_names)\n",
    "G_background = create_graph(plv_background, ch_names)\n",
    "G_seizure_bi = create_graph_bi(plv_seizure, ch_names)\n",
    "G_background_bi = create_graph_bi(plv_background, ch_names)\n",
    "\n",
    "# Extract features\n",
    "features_seizure = extract_graph_features(G_seizure)\n",
    "features_background = extract_graph_features(G_background)\n",
    "features_seizure_bi = extract_graph_features(G_seizure_bi)\n",
    "features_background_bi = extract_graph_features(G_background_bi)\n",
    "\n",
    "\n",
    "# Data\n",
    "group_names = ['Seizure', 'Background']\n",
    "values_group1 = [features_seizure_bi['density'], features_seizure_bi['clustering_coefficient'], 20*features_seizure['average_shortest_path_length']]\n",
    "values_group2 = [features_background_bi['density'], features_background_bi['clustering_coefficient'], 20*features_background['average_shortest_path_length']]\n",
    "x = np.arange(len(values_group1))  # the label locations\n",
    "width = 0.35  # the width of the bars\n",
    "\n",
    "# Create the plot\n",
    "fig, ax = plt.subplots()\n",
    "rects1 = ax.bar(x - width/2, values_group1, width, label='Seizure')\n",
    "rects2 = ax.bar(x + width/2, values_group2, width, label='Background')\n",
    "\n",
    "# Add some text for labels, title and custom x-axis tick labels, etc.\n",
    "ax.set_xlabel('Measure')\n",
    "ax.set_ylabel('Value')\n",
    "ax.set_title('Gamma')\n",
    "ax.set_xticks(x)\n",
    "ax.set_xticklabels(['Density', 'Clustering Coefficient', '20 x Shortest Path Length'])\n",
    "ax.legend()\n",
    "\n",
    "# Add labels above the bars\n",
    "def autolabel(rects):\n",
    "    for rect in rects:\n",
    "        height = rect.get_height()\n",
    "        ax.annotate('{}'.format(height),\n",
    "                    xy=(rect.get_x() + rect.get_width() / 2, height),\n",
    "                    xytext=(0, 3),  # 3 points vertical offset\n",
    "                    # textcoords=\"offset points\",\n",
    "                    ha='center', va='bottom')\n",
    "\n",
    "# autolabel(rects1)\n",
    "# autolabel(rects2)\n",
    "\n",
    "fig.tight_layout()\n",
    "\n",
    "plt.show()\n"
   ]
  },
  {
   "cell_type": "code",
   "execution_count": null,
   "metadata": {},
   "outputs": [],
   "source": []
  }
 ],
 "metadata": {
  "kernelspec": {
   "display_name": "eegnetmibci",
   "language": "python",
   "name": "python3"
  },
  "language_info": {
   "codemirror_mode": {
    "name": "ipython",
    "version": 3
   },
   "file_extension": ".py",
   "mimetype": "text/x-python",
   "name": "python",
   "nbconvert_exporter": "python",
   "pygments_lexer": "ipython3",
   "version": "3.10.13"
  }
 },
 "nbformat": 4,
 "nbformat_minor": 2
}
