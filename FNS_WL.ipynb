{
 "cells": [
  {
   "cell_type": "markdown",
   "metadata": {},
   "source": [
    "Functional network stability with respect to window length"
   ]
  },
  {
   "cell_type": "code",
   "execution_count": 2,
   "metadata": {},
   "outputs": [],
   "source": [
    "import networkx as nx\n",
    "import numpy as np\n",
    "import matplotlib as plt"
   ]
  },
  {
   "cell_type": "code",
   "execution_count": null,
   "metadata": {},
   "outputs": [],
   "source": [
    "# Calculate and plot functional network stability with respect to window length\n",
    "topgraphs = []\n",
    "mcc = []\n",
    "scc = []\n",
    "   \n",
    "\n",
    "for el in range(1, 121, 5):\n",
    "    for i in range(start_point-600, start_point-420, 1):\n",
    "    \n",
    "        graph_list = u_graphs_bi[i:i+el]\n",
    "        avgGraph = average_graphs(graph_list, all_nodes)\n",
    "        topedges_graph = TopEdgesGraph(avgGraph, 0.7)\n",
    "\n",
    "        topgraphs.append(topedges_graph)\n",
    "\n",
    "        cc = []\n",
    "        for gn in range(len(topgraphs)-1):\n",
    "            # Get adjacency matrices\n",
    "            A1 = nx.adjacency_matrix(topgraphs[gn], nodelist= list(electrode_locations.keys()), dtype=None, weight='weight').toarray()\n",
    "            A2 = nx.adjacency_matrix(topgraphs[gn+1], nodelist= list(electrode_locations.keys()), dtype=None, weight='weight').toarray()\n",
    "\n",
    "            matrix1 = A1\n",
    "            matrix2 = A2\n",
    "\n",
    "            # Compute means\n",
    "            mean1 = np.mean(matrix1)\n",
    "            mean2 = np.mean(matrix2)\n",
    "\n",
    "            # Center the matrices\n",
    "            centered_matrix1 = matrix1 - mean1\n",
    "            centered_matrix2 = matrix2 - mean2\n",
    "\n",
    "            # Compute numerator (element-wise product and sum)\n",
    "            numerator = np.sum(centered_matrix1 * centered_matrix2)\n",
    "\n",
    "            # Compute denominator (product of standard deviations)\n",
    "            denominator = np.sqrt(np.sum(centered_matrix1 ** 2) * np.sum(centered_matrix2 ** 2))\n",
    "\n",
    "            # Compute normalized cross-correlation\n",
    "            cross_correlation = numerator / denominator\n",
    "            cc.append(cross_correlation)\n",
    "    mcc.append(np.mean(cc))\n",
    "    scc.append(np.std(cc))\n",
    "\n",
    "\n",
    "x = np.arange(1, 121, 5) \n",
    "plt.errorbar(x, mcc, yerr=scc, fmt='-o', capsize=5, label='Mean ± Std')\n",
    "plt.xlabel(\"Window Length (seconds)\")\n",
    "plt.ylabel(\"Functional Network Stability\")\n",
    "plt.grid(True)\n",
    "plt.show()"
   ]
  }
 ],
 "metadata": {
  "kernelspec": {
   "display_name": "eegnetmibci",
   "language": "python",
   "name": "python3"
  },
  "language_info": {
   "codemirror_mode": {
    "name": "ipython",
    "version": 3
   },
   "file_extension": ".py",
   "mimetype": "text/x-python",
   "name": "python",
   "nbconvert_exporter": "python",
   "pygments_lexer": "ipython3",
   "version": "3.10.13"
  }
 },
 "nbformat": 4,
 "nbformat_minor": 2
}
