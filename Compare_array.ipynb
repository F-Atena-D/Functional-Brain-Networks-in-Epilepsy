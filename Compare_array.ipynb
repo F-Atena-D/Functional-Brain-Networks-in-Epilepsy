{
 "cells": [
  {
   "cell_type": "markdown",
   "metadata": {},
   "source": [
    "Compare Array"
   ]
  },
  {
   "cell_type": "code",
   "execution_count": 1,
   "metadata": {},
   "outputs": [],
   "source": [
    "def compare_arrays(main_array, comp_array):\n",
    "    # Check presence matches (ones match ones)\n",
    "    presence_match = (main_array == 1) & (comp_array == 1)\n",
    "\n",
    "    # Check absence matches (zeros match zeros)\n",
    "    absence_match = (main_array == 0) & (comp_array == 0)\n",
    "\n",
    "    # Combine conditions\n",
    "    full_match = (presence_match | absence_match).astype(int)\n",
    "\n",
    "    Perc_match = 100*(np.sum(full_match)/19)\n",
    "\n",
    "    return Perc_match"
   ]
  },
  {
   "cell_type": "code",
   "execution_count": null,
   "metadata": {},
   "outputs": [],
   "source": []
  }
 ],
 "metadata": {
  "kernelspec": {
   "display_name": "eegnetmibci",
   "language": "python",
   "name": "python3"
  },
  "language_info": {
   "codemirror_mode": {
    "name": "ipython",
    "version": 3
   },
   "file_extension": ".py",
   "mimetype": "text/x-python",
   "name": "python",
   "nbconvert_exporter": "python",
   "pygments_lexer": "ipython3",
   "version": "3.10.13"
  }
 },
 "nbformat": 4,
 "nbformat_minor": 2
}
